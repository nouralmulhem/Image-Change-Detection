{
  "nbformat": 4,
  "nbformat_minor": 0,
  "metadata": {
    "colab": {
      "provenance": []
    },
    "kernelspec": {
      "name": "python3",
      "display_name": "Python 3"
    },
    "language_info": {
      "name": "python"
    }
  },
  "cells": [
    {
      "cell_type": "markdown",
      "source": [
        "# read and extract data"
      ],
      "metadata": {
        "id": "W9E6y6Y9X6a4"
      }
    },
    {
      "cell_type": "code",
      "source": [
        "DATASET_PATH = \"1mWY8_dins5txSqKR0NlOiBnwh7kc5zNA\""
      ],
      "metadata": {
        "id": "cBRpt8i9Xu15"
      },
      "execution_count": null,
      "outputs": []
    },
    {
      "cell_type": "code",
      "source": [
        "!gdown -q $DATASET_PATH -O trainval.zip\n",
        "!unzip -q trainval.zip"
      ],
      "metadata": {
        "id": "-hSpRC1PXvKD"
      },
      "execution_count": null,
      "outputs": []
    },
    {
      "cell_type": "markdown",
      "source": [
        "# install"
      ],
      "metadata": {
        "id": "eyksTRu5Z9d3"
      }
    },
    {
      "cell_type": "code",
      "source": [
        "%%capture\n",
        "%pip install scikit-fuzzy"
      ],
      "metadata": {
        "id": "RHULBzYBZ-2V"
      },
      "execution_count": null,
      "outputs": []
    },
    {
      "cell_type": "markdown",
      "source": [
        "# imports"
      ],
      "metadata": {
        "id": "0tfbEGLzXvfn"
      }
    },
    {
      "cell_type": "code",
      "source": [
        "from PIL import Image\n",
        "import os\n",
        "import io\n",
        "import re\n",
        "import csv\n",
        "import matplotlib.pyplot as plt\n",
        "import numpy as np\n",
        "from sklearn.metrics import jaccard_score\n",
        "from sklearn.metrics import confusion_matrix\n",
        "import seaborn as sns\n",
        "from sklearn.metrics import accuracy_score, precision_score, f1_score, recall_score\n",
        "\n",
        "\n",
        "\n",
        "import cv2 as cv\n",
        "\n",
        "from skfuzzy import cmeans\n",
        "from scipy.spatial.distance import cdist"
      ],
      "metadata": {
        "id": "OfHWarJTXuZ1"
      },
      "execution_count": null,
      "outputs": []
    },
    {
      "cell_type": "markdown",
      "source": [
        "# Jaccard"
      ],
      "metadata": {
        "id": "SUtsxPFbXl45"
      }
    },
    {
      "cell_type": "code",
      "source": [
        "def jaccard_similarity(image1, image2):\n",
        "    \"\"\"\n",
        "    Calculate the Jaccard similarity score between two images.\n",
        "\n",
        "    Args:\n",
        "    image1 (PIL.Image): The first image.\n",
        "    image2 (PIL.Image): The second image.\n",
        "\n",
        "    Returns:\n",
        "    float: The Jaccard similarity score.\n",
        "    \"\"\"\n",
        "    # Flatten binary arrays\n",
        "    flattened_binary_array1 = image1\n",
        "    flattened_binary_array2 = image2\n",
        "\n",
        "    # Calculate Jaccard similarity score\n",
        "    score = jaccard_score(flattened_binary_array1, flattened_binary_array2, average=\"micro\", zero_division=1)\n",
        "\n",
        "    return score"
      ],
      "metadata": {
        "id": "0OvIE7KwXlM0"
      },
      "execution_count": null,
      "outputs": []
    },
    {
      "cell_type": "markdown",
      "source": [
        "# show images"
      ],
      "metadata": {
        "id": "99FBG_BqXlAD"
      }
    },
    {
      "cell_type": "code",
      "execution_count": null,
      "metadata": {
        "id": "1htN_0irXDS9"
      },
      "outputs": [],
      "source": [
        "def show_images(images, titles=None):\n",
        "    num_images = len(images)\n",
        "    fig, axes = plt.subplots(1, num_images, figsize=(10*num_images, 5))\n",
        "\n",
        "    for i in range(num_images):\n",
        "        ax = axes[i] if num_images > 1 else axes  # Handle single image case\n",
        "        ax.imshow(images[i])\n",
        "        ax.axis('off')  # Hide axis for the image\n",
        "        if titles:\n",
        "            ax.set_title(titles[i])  # Set title if titles are provided\n",
        "\n",
        "    plt.show()"
      ]
    },
    {
      "cell_type": "markdown",
      "source": [
        "# sort and get images"
      ],
      "metadata": {
        "id": "aBCU6BDCYApy"
      }
    },
    {
      "cell_type": "code",
      "source": [
        "def sorted_alphanumeric(data):\n",
        "    def convert(text): return int(text) if text.isdigit() else text.lower()\n",
        "\n",
        "    def alphanum_key(key): return [convert(c) for c in re.split('([0-9]+)', key)]\n",
        "\n",
        "    return sorted(data, key=alphanum_key)\n",
        "\n",
        "\n",
        "def read_images(folder_path):\n",
        "  files = os.listdir(folder_path)\n",
        "  files = sorted_alphanumeric(files)\n",
        "  images = []\n",
        "\n",
        "  for idx, file in enumerate(files):\n",
        "      image = Image.open(os.path.join(folder_path, file))\n",
        "      images.append(image)\n",
        "  return images"
      ],
      "metadata": {
        "id": "oSxTHcrjYCGt"
      },
      "execution_count": null,
      "outputs": []
    },
    {
      "cell_type": "code",
      "source": [
        "A = read_images('/content/trainval/A')\n",
        "B = read_images('/content/trainval/B')\n",
        "label = read_images('/content/trainval/label')"
      ],
      "metadata": {
        "id": "uMCjGASMYIjL"
      },
      "execution_count": null,
      "outputs": []
    },
    {
      "cell_type": "markdown",
      "source": [
        "# image difference"
      ],
      "metadata": {
        "id": "8itL_iBWaIwa"
      }
    },
    {
      "cell_type": "code",
      "source": [
        "class image_difference():\n",
        "\n",
        "  def __init__(self):\n",
        "      self.jaccard_scores = []\n",
        "      self.all_ground_truth = []\n",
        "      self.all_bcm = []\n",
        "\n",
        "\n",
        "  def otsu(self, data, num=400):\n",
        "    mx = np.max(data)\n",
        "    mn = np.min(data)\n",
        "\n",
        "    total = data.size\n",
        "    step = (mx - mn) / num\n",
        "    val = mn + step\n",
        "    best_1 = mn\n",
        "    best_2 = 0\n",
        "    while val <= mx:\n",
        "        data_1 = data[data <= val]\n",
        "        data_2 = data[data > val]\n",
        "        if data_1.size == 0 or data_2.size == 0:\n",
        "            val += step\n",
        "            continue\n",
        "        w1 = data_1.size / total\n",
        "        w2 = data_2.size / total\n",
        "\n",
        "        mean_1 = data_1.mean()\n",
        "        mean_2 = data_2.mean()\n",
        "\n",
        "        ICV = w1 * w2 * np.power((mean_1 - mean_2), 2)\n",
        "        if best_2 < ICV:\n",
        "            best_2 = ICV\n",
        "            best_1 = val\n",
        "        val += step\n",
        "\n",
        "    return best_1\n",
        "\n",
        "  def get_difference(self, img_X, img_Y):\n",
        "      img_diff = img_X - img_Y\n",
        "      return img_diff\n",
        "\n",
        "  def run(self, A, B, label):\n",
        "\n",
        "    for idx in range(len(A)):\n",
        "        if idx % 100 == 0: print(idx)\n",
        "        # show_images([A[idx], B[idx]])\n",
        "\n",
        "        img1  = A[idx].convert('L')\n",
        "        img2  = B[idx].convert('L')\n",
        "\n",
        "        data_set_X = np.array(img1)\n",
        "        data_set_Y = np.array(img2)\n",
        "        ground_truth = np.array(label[idx]) / 255\n",
        "\n",
        "        img_height, img_width = data_set_X.shape[:2]\n",
        "\n",
        "        img_diff = self.get_difference(data_set_X, data_set_Y)\n",
        "\n",
        "        bcm = np.zeros((img_height, img_width))\n",
        "        thre = self.otsu(img_diff.reshape(1, -1))\n",
        "\n",
        "\n",
        "        bcm[img_diff > thre] = 1\n",
        "        self.all_ground_truth.extend(ground_truth.flatten())\n",
        "        self.all_bcm.extend(bcm.flatten())\n",
        "\n",
        "        # print(ground_truth, bcm)\n",
        "        self.jaccard_scores.append(jaccard_similarity(ground_truth.flatten(), bcm.flatten()))\n",
        "\n",
        "\n",
        "  def calculate_metrics(self):\n",
        "    print(f'the Jaccard accuracy = {np.array(self.jaccard_scores).mean()*100}')\n",
        "\n",
        "    confusion_mat = confusion_matrix(self.all_ground_truth, self.all_bcm)\n",
        "\n",
        "    # Plot confusion matrix\n",
        "    plt.figure(figsize=(8, 6))\n",
        "    sns.heatmap(confusion_mat, annot=True, fmt='d', cmap='Blues', cbar=False)\n",
        "    plt.xlabel('Predicted Label')\n",
        "    plt.ylabel('True Label')\n",
        "    plt.title('Confusion Matrix')\n",
        "    plt.show()\n",
        "\n",
        "    accuracy = accuracy_score(self.all_ground_truth, self.all_bcm)\n",
        "    precision = precision_score(self.all_ground_truth, self.all_bcm)\n",
        "    f1 = f1_score(self.all_ground_truth, self.all_bcm)\n",
        "    recall = recall_score(self.all_ground_truth, self.all_bcm)\n",
        "\n",
        "    print(f'Accuracy: {accuracy * 100:.2f}%\\nPrecision: {precision * 100:.2f}%\\nF1 Score: {f1 * 100:.2f}%\\nRecall: {recall * 100:.2f}%')"
      ],
      "metadata": {
        "id": "kQoE9oQla545"
      },
      "execution_count": null,
      "outputs": []
    },
    {
      "cell_type": "code",
      "source": [
        "import numpy as np\n",
        "\n",
        "random_indices = np.random.randint(0, 4000, size=500)"
      ],
      "metadata": {
        "id": "9sXUP10eyn-i"
      },
      "execution_count": null,
      "outputs": []
    },
    {
      "cell_type": "code",
      "source": [
        "A_test = [A[i] for i in random_indices]\n",
        "B_test = [B[i] for i in random_indices]\n",
        "label_test = [label[i] for i in random_indices]"
      ],
      "metadata": {
        "id": "5J8Kcr8bzDR4"
      },
      "execution_count": null,
      "outputs": []
    },
    {
      "cell_type": "code",
      "source": [
        "img_diff_model = image_difference()\n",
        "img_diff_model.run(A_test, B_test, label_test)"
      ],
      "metadata": {
        "colab": {
          "base_uri": "https://localhost:8080/"
        },
        "id": "OjAQANOUaKL7",
        "outputId": "74991b1b-dc7b-4e8b-b64d-8a1c7cc574cb"
      },
      "execution_count": null,
      "outputs": [
        {
          "output_type": "stream",
          "name": "stdout",
          "text": [
            "0\n",
            "100\n",
            "200\n",
            "300\n",
            "400\n"
          ]
        }
      ]
    },
    {
      "cell_type": "code",
      "source": [
        "img_diff_model.calculate_metrics()"
      ],
      "metadata": {
        "colab": {
          "base_uri": "https://localhost:8080/",
          "height": 651
        },
        "id": "qpyNUIW4pTxW",
        "outputId": "b684184d-463e-4e2f-ae4d-926529ae149f"
      },
      "execution_count": null,
      "outputs": [
        {
          "output_type": "stream",
          "name": "stdout",
          "text": [
            "the Jaccard accuracy = 31.04336820803229\n"
          ]
        },
        {
          "output_type": "display_data",
          "data": {
            "text/plain": [
              "<Figure size 800x600 with 1 Axes>"
            ],
            "image/png": "[encoded data removed]"
          },
          "metadata": {}
        },
        {
          "output_type": "stream",
          "name": "stdout",
          "text": [
            "Accuracy: 43.91%\n",
            "Precision: 2.07%\n",
            "F1 Score: 4.02%\n",
            "Recall: 69.58%\n"
          ]
        }
      ]
    },
    {
      "cell_type": "markdown",
      "source": [
        "# CVA"
      ],
      "metadata": {
        "id": "oRHkA_-XaVTb"
      }
    },
    {
      "cell_type": "code",
      "source": [
        "class CVA():\n",
        "\n",
        "  def __init__(self):\n",
        "      self.jaccard_scores = []\n",
        "      self.all_ground_truth = []\n",
        "      self.all_bcm = []\n",
        "\n",
        "\n",
        "  def otsu(self, data, num=400):\n",
        "    mx = np.max(data)\n",
        "    mn = np.min(data)\n",
        "\n",
        "    total = data.size\n",
        "    step = (mx - mn) / num\n",
        "    val = mn + step\n",
        "    best_1 = mn\n",
        "    best_2 = 0\n",
        "    while val <= mx:\n",
        "        data_1 = data[data <= val]\n",
        "        data_2 = data[data > val]\n",
        "        if data_1.size == 0 or data_2.size == 0:\n",
        "            val += step\n",
        "            continue\n",
        "        w1 = data_1.size / total\n",
        "        w2 = data_2.size / total\n",
        "\n",
        "        mean_1 = data_1.mean()\n",
        "        mean_2 = data_2.mean()\n",
        "\n",
        "        ICV = w1 * w2 * np.power((mean_1 - mean_2), 2)\n",
        "        if best_2 < ICV:\n",
        "            best_2 = ICV\n",
        "            best_1 = val\n",
        "        val += step\n",
        "\n",
        "    return best_1\n",
        "\n",
        "\n",
        "  def CVA_calc(self, img_X, img_Y):\n",
        "    img_diff = img_X - img_Y\n",
        "    L2_norm = np.sqrt(np.sum(np.square(img_diff), axis=2))\n",
        "    return L2_norm\n",
        "\n",
        "  def run(self, A, B, label):\n",
        "    for idx in range(len(A_test)):\n",
        "      if idx % 100 == 0: print(idx)\n",
        "\n",
        "      data_set_X = np.array(A_test[idx])\n",
        "      data_set_Y = np.array(B_test[idx])\n",
        "      ground_truth = np.array(label_test[idx])/255\n",
        "      # show_images([data_set_X, data_set_Y])\n",
        "\n",
        "      img_height, img_width = data_set_X.shape[:2]\n",
        "\n",
        "      L2_norm = self.CVA_calc(data_set_X, data_set_Y)\n",
        "\n",
        "      bcm = np.zeros((img_height, img_width))\n",
        "      thre = self.otsu(L2_norm.reshape(1, -1))\n",
        "\n",
        "      bcm[L2_norm > thre] = 1\n",
        "\n",
        "      bcm = bcm.astype(np.uint8)\n",
        "      # show_images([bcm, ground_truth])\n",
        "\n",
        "      self.all_ground_truth.extend(ground_truth.flatten())\n",
        "      self.all_bcm.extend(bcm.flatten())\n",
        "\n",
        "      self.jaccard_scores.append(jaccard_similarity(ground_truth.flatten(), bcm.flatten()))\n",
        "\n",
        "\n",
        "\n",
        "  def calculate_metrics(self):\n",
        "    print(f'the Jaccard accuracy = {np.array(self.jaccard_scores).mean()*100}')\n",
        "\n",
        "    accuracy = accuracy_score(self.all_ground_truth, self.all_bcm)\n",
        "    precision = precision_score(self.all_ground_truth, self.all_bcm)\n",
        "    f1 = f1_score(self.all_ground_truth, self.all_bcm)\n",
        "    recall = recall_score(self.all_ground_truth, self.all_bcm)\n",
        "\n",
        "    print(f'Accuracy: {accuracy * 100:.2f}%\\nPrecision: {precision * 100:.2f}%\\nF1 Score: {f1 * 100:.2f}%\\nRecall: {recall * 100:.2f}%')\n",
        "\n",
        "    confusion_mat = confusion_matrix(self.all_ground_truth, self.all_bcm)\n",
        "\n",
        "    # Plot confusion matrix\n",
        "    plt.figure(figsize=(8, 6))\n",
        "    sns.heatmap(confusion_mat, annot=True, fmt='d', cmap='Blues', cbar=False)\n",
        "    plt.xlabel('Predicted Label')\n",
        "    plt.ylabel('True Label')\n",
        "    plt.title('Confusion Matrix')\n",
        "    plt.show()"
      ],
      "metadata": {
        "id": "Yj2bVIWlgPqi"
      },
      "execution_count": null,
      "outputs": []
    },
    {
      "cell_type": "code",
      "source": [
        "img_diff_model = CVA()\n",
        "img_diff_model.run(A_test, B_test, label_test)\n",
        "img_diff_model.calculate_metrics()"
      ],
      "metadata": {
        "id": "oKg28uR9BTWV",
        "colab": {
          "base_uri": "https://localhost:8080/",
          "height": 738
        },
        "outputId": "c2caa220-c5f0-4110-f662-c647063c4d2f"
      },
      "execution_count": null,
      "outputs": [
        {
          "output_type": "stream",
          "name": "stdout",
          "text": [
            "0\n",
            "100\n",
            "200\n",
            "300\n",
            "400\n",
            "the Jaccard accuracy = 24.684784855737227\n",
            "Accuracy: 39.53%\n",
            "Precision: 1.80%\n",
            "F1 Score: 3.50%\n",
            "Recall: 64.95%\n"
          ]
        },
        {
          "output_type": "display_data",
          "data": {
            "text/plain": [
              "<Figure size 800x600 with 1 Axes>"
            ],
            "image/png": "[encoded data removed]"
          },
          "metadata": {}
        }
      ]
    }
  ]
}